{
 "cells": [
  {
   "cell_type": "markdown",
   "id": "1b01046a-7015-4b02-bc1c-eb761645446c",
   "metadata": {},
   "source": [
    "Again check missing values"
   ]
  },
  {
   "cell_type": "code",
   "execution_count": null,
   "id": "badb8f17-8eb8-4608-b2c6-3d39bd56f195",
   "metadata": {},
   "outputs": [],
   "source": [
    "import os\n",
    "import pandas as pd\n",
    "\n",
    "# 📁 Folder path\n",
    "folder_path = r\"D:\\Global_Historical_climate_data\\WorldClim_v1\\Text_files_converted_from_Combined_CSV_files\"\n",
    "\n",
    "# 📋 Summary storage\n",
    "summary_data = []\n",
    "\n",
    "# 🎯 Expected structure\n",
    "expected_columns = [\n",
    "    \"NAME\", \"Duration\",\n",
    "    \"Month1\", \"Month2\", \"Month3\", \"Month4\", \"Month5\", \"Month6\",\n",
    "    \"Month7\", \"Month8\", \"Month9\", \"Month10\", \"Month11\", \"Month12\"\n",
    "]\n",
    "\n",
    "# 🔍 Analyze each TXT file\n",
    "for file_name in os.listdir(folder_path):\n",
    "    if file_name.endswith('.txt'):\n",
    "        file_path = os.path.join(folder_path, file_name)\n",
    "        try:\n",
    "            df = pd.read_csv(file_path, sep='\\t', engine='python')\n",
    "\n",
    "            # Check for structural consistency\n",
    "            col_diff = set(expected_columns) - set(df.columns)\n",
    "            structure_ok = len(col_diff) == 0\n",
    "\n",
    "            # Check for missing values in Month columns\n",
    "            missing_months = df[expected_columns[2:]].isnull().sum().sum()\n",
    "            blank_months = (df[expected_columns[2:]] == '').sum().sum()\n",
    "\n",
    "            summary_data.append({\n",
    "                \"File Name\": file_name,\n",
    "                \"Structure OK\": structure_ok,\n",
    "                \"Missing in Months (NaN)\": missing_months,\n",
    "                \"Blank in Months ('')\": blank_months,\n",
    "                \"Unexpected Columns\": list(col_diff) if not structure_ok else \"-\"\n",
    "            })\n",
    "\n",
    "        except Exception as e:\n",
    "            summary_data.append({\n",
    "                \"File Name\": file_name,\n",
    "                \"Structure OK\": False,\n",
    "                \"Missing in Months (NaN)\": \"Error\",\n",
    "                \"Blank in Months ('')\": \"Error\",\n",
    "                \"Unexpected Columns\": f\"Error: {e}\"\n",
    "            })\n",
    "\n",
    "# 📊 Show table output\n",
    "summary_df = pd.DataFrame(summary_data)\n",
    "print(\"\\n📍 Month Columns Consistency Report\\n\")\n",
    "print(summary_df.to_string(index=False))\n"
   ]
  }
 ],
 "metadata": {
  "kernelspec": {
   "display_name": "Python 3 (ipykernel)",
   "language": "python",
   "name": "python3"
  },
  "language_info": {
   "codemirror_mode": {
    "name": "ipython",
    "version": 3
   },
   "file_extension": ".py",
   "mimetype": "text/x-python",
   "name": "python",
   "nbconvert_exporter": "python",
   "pygments_lexer": "ipython3",
   "version": "3.10.18"
  }
 },
 "nbformat": 4,
 "nbformat_minor": 5
}
