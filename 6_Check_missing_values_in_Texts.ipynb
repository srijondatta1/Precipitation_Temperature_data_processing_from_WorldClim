{
 "cells": [
  {
   "cell_type": "markdown",
   "id": "066cecc0-3062-4477-bed8-24455bc4a87b",
   "metadata": {},
   "source": [
    "Check missing values"
   ]
  },
  {
   "cell_type": "code",
   "execution_count": null,
   "id": "e2fd94fd-88bc-4968-95ae-f886c96c5150",
   "metadata": {},
   "outputs": [],
   "source": [
    "import os\n",
    "import pandas as pd\n",
    "\n",
    "# 📁 Folder containing TXT files\n",
    "folder_path = r\"D:\\Global_Historical_climate_data\\WorldClim_v1\\Text_files_converted_from_Combined_CSV_files\"\n",
    "\n",
    "# 📋 Collect summary data\n",
    "summary_data = []\n",
    "\n",
    "# 🔍 Scan each TXT file\n",
    "for file_name in os.listdir(folder_path):\n",
    "    if file_name.endswith('.txt'):\n",
    "        file_path = os.path.join(folder_path, file_name)\n",
    "        try:\n",
    "            # Assuming tab-separated values, adjust 'sep' if needed (e.g., ',' or ' ')\n",
    "            df = pd.read_csv(file_path, sep='\\t', engine='python')\n",
    "\n",
    "            row_count, col_count = df.shape\n",
    "            missing_values = df.isnull().sum().sum()\n",
    "            blank_cells = (df == '').sum().sum()\n",
    "\n",
    "            summary_data.append({\n",
    "                \"File Name\": file_name,\n",
    "                \"Rows\": row_count,\n",
    "                \"Columns\": col_count,\n",
    "                \"Missing (NaN)\": missing_values,\n",
    "                \"Blank ('')\": blank_cells\n",
    "            })\n",
    "\n",
    "        except Exception as e:\n",
    "            print(f\"🚫 Could not process {file_name}: {e}\")\n",
    "\n",
    "# 📊 Display as table\n",
    "summary_df = pd.DataFrame(summary_data)\n",
    "print(\"\\n📍 TXT Summary Table\\n\")\n",
    "print(summary_df.to_string(index=False))\n"
   ]
  }
 ],
 "metadata": {
  "kernelspec": {
   "display_name": "Python 3 (ipykernel)",
   "language": "python",
   "name": "python3"
  },
  "language_info": {
   "codemirror_mode": {
    "name": "ipython",
    "version": 3
   },
   "file_extension": ".py",
   "mimetype": "text/x-python",
   "name": "python",
   "nbconvert_exporter": "python",
   "pygments_lexer": "ipython3",
   "version": "3.10.18"
  }
 },
 "nbformat": 4,
 "nbformat_minor": 5
}
