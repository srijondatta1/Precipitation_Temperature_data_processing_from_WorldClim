{
 "cells": [
  {
   "cell_type": "markdown",
   "id": "6d3f1f9c-2ee9-4abe-a715-58e8c983c28e",
   "metadata": {},
   "source": [
    "Check misssing values in CSV files"
   ]
  },
  {
   "cell_type": "code",
   "execution_count": null,
   "id": "866b6251-0c6a-4b88-af5b-b6055925260f",
   "metadata": {},
   "outputs": [],
   "source": [
    "import os\n",
    "import pandas as pd\n",
    "\n",
    "# 📁 Folder containing CSV files\n",
    "folder_path = r\"D:\\Global_Historical_climate_data\\WorldClim_v1\\Combined_CSV_files\"\n",
    "\n",
    "# 📋 Prepare summary storage\n",
    "summary_data = []\n",
    "\n",
    "# 🔍 Loop through each CSV file\n",
    "for file_name in os.listdir(folder_path):\n",
    "    if file_name.endswith('.csv'):\n",
    "        file_path = os.path.join(folder_path, file_name)\n",
    "        try:\n",
    "            df = pd.read_csv(file_path)\n",
    "\n",
    "            row_count, col_count = df.shape\n",
    "            missing_values = df.isnull().sum().sum()\n",
    "            blank_cells = (df == '').sum().sum()\n",
    "\n",
    "            summary_data.append({\n",
    "                \"File Name\": file_name,\n",
    "                \"Rows\": row_count,\n",
    "                \"Columns\": col_count,\n",
    "                \"Missing (NaN)\": missing_values,\n",
    "                \"Blank ('')\": blank_cells\n",
    "            })\n",
    "\n",
    "        except Exception as e:\n",
    "            print(f\"🚫 Could not process {file_name}: {e}\")\n",
    "\n",
    "# 📊 Display table\n",
    "summary_df = pd.DataFrame(summary_data)\n",
    "print(\"\\n📍 CSV Summary Table\\n\")\n",
    "print(summary_df.to_string(index=False))\n"
   ]
  }
 ],
 "metadata": {
  "kernelspec": {
   "display_name": "Python 3 (ipykernel)",
   "language": "python",
   "name": "python3"
  },
  "language_info": {
   "codemirror_mode": {
    "name": "ipython",
    "version": 3
   },
   "file_extension": ".py",
   "mimetype": "text/x-python",
   "name": "python",
   "nbconvert_exporter": "python",
   "pygments_lexer": "ipython3",
   "version": "3.13.7"
  }
 },
 "nbformat": 4,
 "nbformat_minor": 5
}
