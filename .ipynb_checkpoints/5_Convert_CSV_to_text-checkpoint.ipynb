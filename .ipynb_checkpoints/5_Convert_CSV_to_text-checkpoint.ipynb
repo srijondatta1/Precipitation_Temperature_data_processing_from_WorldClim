{
 "cells": [
  {
   "cell_type": "markdown",
   "id": "c4c60c10-0b57-48e0-aa6e-188aa1ea2d83",
   "metadata": {},
   "source": [
    "Converting CSV to text files"
   ]
  },
  {
   "cell_type": "code",
   "execution_count": null,
   "id": "3287f072-04fe-4d83-8cf6-67762ee7e63d",
   "metadata": {},
   "outputs": [],
   "source": [
    "import os\n",
    "import pandas as pd\n",
    "import glob\n",
    "\n",
    "# === 📁 FOLDER SETUP ===\n",
    "input_folder = r\"D:\\Global_Historical_climate_data\\WorldClim_v1\\Combined_CSV_files\"\n",
    "output_folder = r\"D:\\Global_Historical_climate_data\\WorldClim_v1\\Text_files_converted_from_Combined_CSV_files\"\n",
    "os.makedirs(output_folder, exist_ok=True)\n",
    "\n",
    "# === 🔖 COLUMNS TO KEEP ===\n",
    "month_cols = [f\"Month{i}\" for i in range(1, 13)]\n",
    "columns_to_keep = [\"NAME\", \"Duration\"] + month_cols\n",
    "\n",
    "# === 🔄 CONVERT EACH FILE ===\n",
    "csv_files = glob.glob(os.path.join(input_folder, \"*.csv\"))\n",
    "print(f\"\\n📂 Found {len(csv_files)} CSV file(s) to process...\\n\")\n",
    "\n",
    "for csv_file in csv_files:\n",
    "    filename = os.path.basename(csv_file)\n",
    "    try:\n",
    "        df = pd.read_csv(csv_file)\n",
    "\n",
    "        # Validate required columns\n",
    "        if not set(columns_to_keep).issubset(df.columns):\n",
    "            print(f\"⚠️ Skipping {filename} — missing required columns\")\n",
    "            continue\n",
    "\n",
    "        # Slice and retain full precision\n",
    "        df_trimmed = df[columns_to_keep].copy()\n",
    "\n",
    "        # Save as .txt with tab separator\n",
    "        output_name = os.path.splitext(filename)[0] + \".txt\"\n",
    "        output_path = os.path.join(output_folder, output_name)\n",
    "        df_trimmed.to_csv(output_path, sep=\"\\t\", index=False)\n",
    "\n",
    "        print(f\"✅ Converted: {output_name}\")\n",
    "\n",
    "    except Exception as e:\n",
    "        print(f\"❌ Error in {filename}: {e}\")\n",
    "\n",
    "print(\"\\n🎉 All conversions completed with full float precision.\")\n"
   ]
  }
 ],
 "metadata": {
  "kernelspec": {
   "display_name": "Python 3 (ipykernel)",
   "language": "python",
   "name": "python3"
  },
  "language_info": {
   "codemirror_mode": {
    "name": "ipython",
    "version": 3
   },
   "file_extension": ".py",
   "mimetype": "text/x-python",
   "name": "python",
   "nbconvert_exporter": "python",
   "pygments_lexer": "ipython3",
   "version": "3.13.7"
  }
 },
 "nbformat": 4,
 "nbformat_minor": 5
}
